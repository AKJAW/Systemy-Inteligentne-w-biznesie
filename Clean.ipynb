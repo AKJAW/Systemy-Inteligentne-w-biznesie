{
 "cells": [
  {
   "cell_type": "code",
   "execution_count": 1,
   "metadata": {},
   "outputs": [],
   "source": [
    "import pandas as pd\n",
    "import numpy as np\n",
    "from random import randrange"
   ]
  },
  {
   "cell_type": "code",
   "execution_count": 2,
   "metadata": {},
   "outputs": [],
   "source": [
    "df = pd.read_csv(\"TitanicMess.tsv\", sep=\"\\t\")"
   ]
  },
  {
   "cell_type": "markdown",
   "metadata": {},
   "source": [
    "# Replaceing wrong sexes"
   ]
  },
  {
   "cell_type": "code",
   "execution_count": 3,
   "metadata": {},
   "outputs": [],
   "source": [
    "df['Sex'] = df['Sex'].str.replace(r'\\bmalef\\b', 'male')\n",
    "df['Sex'] = df['Sex'].str.replace(r'\\bmal\\b', 'male')\n",
    "df['Sex'] = df['Sex'].str.replace(r'\\bfem\\b', 'female')\n",
    "df['Sex'] = df['Sex'].str.replace(r'\\bfemmale\\b', 'female')"
   ]
  },
  {
   "cell_type": "markdown",
   "metadata": {},
   "source": [
    "# Replacing incorrect ages with the average"
   ]
  },
  {
   "cell_type": "code",
   "execution_count": 4,
   "metadata": {},
   "outputs": [],
   "source": [
    "#age = df['Age']\n",
    "#df.isnull().sum()\n",
    "df['Age'] = np.where(df['Age'].str.contains('\\,'), None, df['Age'])\n",
    "df['Age'] = np.where(df['Age'].str.contains('\\.'), None, df['Age'])\n",
    "df['Age'] = np.where(df['Age'].str.contains('-'), None, df['Age'])\n",
    "df['Age'] = np.where(pd.to_numeric(df['Age']) > 120, None, df['Age'])\n",
    "#df.isnull().sum()\n",
    "nonNull = df['Age'].mask(df['Age'].eq('None')).dropna()\n",
    "average = nonNull.median().astype(int)\n",
    "df['Age'].fillna(average, inplace=True)"
   ]
  },
  {
   "cell_type": "markdown",
   "metadata": {},
   "source": [
    "# Filling empty embarked values with the most common occurance"
   ]
  },
  {
   "cell_type": "code",
   "execution_count": 5,
   "metadata": {},
   "outputs": [],
   "source": [
    "mostCommonEmbarked = df['Embarked'].value_counts()[0]\n",
    "df['Embarked'].fillna(mostCommonEmbarked, inplace=True)"
   ]
  },
  {
   "cell_type": "markdown",
   "metadata": {},
   "source": [
    "# Randomly assinging cabins"
   ]
  },
  {
   "cell_type": "code",
   "execution_count": 6,
   "metadata": {},
   "outputs": [],
   "source": [
    "letters = ['A', 'B', 'C', 'D', 'E', 'F']\n",
    "def generateCabin():\n",
    "    letterIndex = randrange(6)\n",
    "    return letters[letterIndex] + str(randrange(100) + 1)\n",
    "generateCabin()\n",
    "df['Cabin'].fillna(mostCommonEmbarked, inplace=True)"
   ]
  },
  {
   "cell_type": "code",
   "execution_count": 7,
   "metadata": {},
   "outputs": [],
   "source": [
    "df.to_csv(\"TitanicCleaned.tsv\", sep=\"\\t\")"
   ]
  },
  {
   "cell_type": "code",
   "execution_count": null,
   "metadata": {},
   "outputs": [],
   "source": []
  }
 ],
 "metadata": {
  "kernelspec": {
   "display_name": "Python 3",
   "language": "python",
   "name": "python3"
  },
  "language_info": {
   "codemirror_mode": {
    "name": "ipython",
    "version": 3
   },
   "file_extension": ".py",
   "mimetype": "text/x-python",
   "name": "python",
   "nbconvert_exporter": "python",
   "pygments_lexer": "ipython3",
   "version": "3.8.5"
  }
 },
 "nbformat": 4,
 "nbformat_minor": 4
}
